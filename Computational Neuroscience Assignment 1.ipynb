{
 "cells": [
  {
   "cell_type": "code",
   "execution_count": 41,
   "id": "3f9a7c98-7b93-41a3-9b7d-fd331184ab3d",
   "metadata": {},
   "outputs": [
    {
     "name": "stdout",
     "output_type": "stream",
     "text": [
      "Input:0.7909826803317819\n",
      "Weight 1 :-0.13360229039426774, Bais 1 :0.5\n",
      "Weight 2: 0.24071325845215208, Bias 2: 0.7\n",
      "Output of Weight 1: 0.39432290224547706\n",
      "Output of Weight 2: 0.8904000183618801\n"
     ]
    }
   ],
   "source": [
    "import random \n",
    "# The Weight\n",
    "w1 = random.uniform(-0.5,0.5)\n",
    "w2 = random.uniform(-0.5,0.5)\n",
    "# The Bais\n",
    "b1 = 0.5\n",
    "b2 = 0.7\n",
    "# The Input\n",
    "i1 = random.uniform(-1,1)\n",
    "# Y = (weight * input) + bais\n",
    "y1 = (w1*i1) + b1 \n",
    "y2 = (w2*i1) + b2\n",
    "\n",
    "\n",
    "print(f\"Input:{i1}\")\n",
    "print(f\"Weight 1 :{w1}, Bais 1 :{b1}\")\n",
    "print(f\"Weight 2: {w2}, Bias 2: {b2}\")\n",
    "print(f\"Output of Weight 1: {y1}\")\n",
    "print(f\"Output of Weight 2: {y2}\")\n"
   ]
  },
  {
   "cell_type": "code",
   "execution_count": null,
   "id": "14ac3e12-3b5a-41f8-bcdb-88064bfb630c",
   "metadata": {},
   "outputs": [],
   "source": []
  }
 ],
 "metadata": {
  "kernelspec": {
   "display_name": "Python 3 (ipykernel)",
   "language": "python",
   "name": "python3"
  },
  "language_info": {
   "codemirror_mode": {
    "name": "ipython",
    "version": 3
   },
   "file_extension": ".py",
   "mimetype": "text/x-python",
   "name": "python",
   "nbconvert_exporter": "python",
   "pygments_lexer": "ipython3",
   "version": "3.12.4"
  }
 },
 "nbformat": 4,
 "nbformat_minor": 5
}
