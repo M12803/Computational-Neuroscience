{
 "cells": [
  {
   "cell_type": "code",
   "execution_count": 23,
   "id": "adf39c10-35ba-4425-99d7-f4fc49f3345a",
   "metadata": {},
   "outputs": [],
   "source": [
    "import torch\n",
    "import torch.nn as nn\n",
    "import torchvision\n",
    "import torchvision.transforms as transforms\n",
    "import torch.optim as optim"
   ]
  },
  {
   "cell_type": "code",
   "execution_count": 25,
   "id": "58fc5bf3-250f-44af-a66b-6de95b954dd5",
   "metadata": {},
   "outputs": [],
   "source": [
    "device = torch.device('cuda' if torch.cuda.is_available() else 'cpu')"
   ]
  },
  {
   "cell_type": "code",
   "execution_count": 57,
   "id": "023f4fac-f306-406f-93f8-f38e065c9551",
   "metadata": {},
   "outputs": [],
   "source": [
    "embedding_dim = 10\n",
    "hidden_size = 16\n",
    "num_layers = 1\n",
    "learning_rate = 0.001\n",
    "num_epochs = 50\n",
    "\n",
    "model = TextRNN(vocab_size, embedding_dim, hidden_size, num_layers).to(device)\n",
    "criterion = nn.CrossEntropyLoss()\n",
    "optimizer = optim.Adam(model.parameters(), lr=learning_rate)"
   ]
  },
  {
   "cell_type": "code",
   "execution_count": 31,
   "id": "42f46d94-ddbb-4ed8-9d61-c6fcb9d3b89f",
   "metadata": {},
   "outputs": [],
   "source": [
    "sentence = \"the cat is sleeping\"\n",
    "words = sentence.split()\n",
    "\n",
    "# Create a vocabulary\n",
    "vocab = list(set(words))  \n",
    "word_to_idx = {word: idx for idx, word in enumerate(vocab)}\n",
    "idx_to_word = {idx: word for word, idx in word_to_idx.items()}\n",
    "vocab_size = len(vocab)\n",
    "\n",
    "# Prepare input and target\n",
    "input_words = words[:3] \n",
    "target_word = words[3]   \n",
    "\n",
    "input_indices = [word_to_idx[w] for w in input_words]\n",
    "target_index = word_to_idx[target_word]\n",
    "\n",
    "input_tensor = torch.tensor([input_indices], dtype=torch.long).to(device)  \n",
    "target_tensor = torch.tensor([target_index], dtype=torch.long).to(device)  \n",
    "\n",
    "#  Define RNN model\n",
    "class TextRNN(nn.Module):\n",
    "    def __init__(self, vocab_size, embedding_dim, hidden_size, num_layers):\n",
    "        super(TextRNN, self).__init__()\n",
    "        self.embedding = nn.Embedding(vocab_size, embedding_dim)\n",
    "        self.rnn = nn.RNN(embedding_dim, hidden_size, num_layers, batch_first=True)\n",
    "        self.fc = nn.Linear(hidden_size, vocab_size)\n",
    "\n",
    "    def forward(self, x):\n",
    "        x = self.embedding(x)  # (batch, seq_len, embed_dim)\n",
    "        h0 = torch.zeros(num_layers, x.size(0), hidden_size).to(device)  # initial hidden state\n",
    "        out, _ = self.rnn(x, h0)  # out: (batch, seq_len, hidden_size)\n",
    "        out = out[:, -1, :]  # get the output of the last time step\n",
    "        out = self.fc(out)   # map to vocab size\n",
    "        return out\n"
   ]
  },
  {
   "cell_type": "code",
   "execution_count": 59,
   "id": "44f4ce0b-1f40-4273-8c41-4b6971079e46",
   "metadata": {},
   "outputs": [
    {
     "name": "stdout",
     "output_type": "stream",
     "text": [
      "Epoch [10/50], Loss: 0.8387\n",
      "Epoch [20/50], Loss: 0.5693\n",
      "Epoch [30/50], Loss: 0.3850\n",
      "Epoch [40/50], Loss: 0.2645\n",
      "Epoch [50/50], Loss: 0.1884\n"
     ]
    }
   ],
   "source": [
    "for epoch in range(num_epochs):\n",
    "    model.train()\n",
    "    outputs = model(input_tensor)\n",
    "    loss = criterion(outputs, target_tensor)\n",
    "\n",
    "    optimizer.zero_grad()\n",
    "    loss.backward()\n",
    "    optimizer.step()\n",
    "\n",
    "    if (epoch + 1) % 10 == 0:\n",
    "        print(f'Epoch [{epoch+1}/{num_epochs}], Loss: {loss.item():.4f}')"
   ]
  },
  {
   "cell_type": "code",
   "execution_count": 61,
   "id": "488fcd85-4b65-47d3-8a9b-5b3087065eca",
   "metadata": {},
   "outputs": [
    {
     "name": "stdout",
     "output_type": "stream",
     "text": [
      "Predicted word: sleeping\n"
     ]
    }
   ],
   "source": [
    "# Test\n",
    "with torch.no_grad():\n",
    "    output = model(input_tensor)\n",
    "    predicted_idx = torch.argmax(output, dim=1).item()\n",
    "    predicted_word = idx_to_word[predicted_idx]\n",
    "    print(f'Predicted word: {predicted_word}')"
   ]
  },
  {
   "cell_type": "code",
   "execution_count": null,
   "id": "353e0fa0-9006-44be-8b17-eb4f1e9b335b",
   "metadata": {},
   "outputs": [],
   "source": []
  }
 ],
 "metadata": {
  "kernelspec": {
   "display_name": "Python 3 (ipykernel)",
   "language": "python",
   "name": "python3"
  },
  "language_info": {
   "codemirror_mode": {
    "name": "ipython",
    "version": 3
   },
   "file_extension": ".py",
   "mimetype": "text/x-python",
   "name": "python",
   "nbconvert_exporter": "python",
   "pygments_lexer": "ipython3",
   "version": "3.12.4"
  }
 },
 "nbformat": 4,
 "nbformat_minor": 5
}
